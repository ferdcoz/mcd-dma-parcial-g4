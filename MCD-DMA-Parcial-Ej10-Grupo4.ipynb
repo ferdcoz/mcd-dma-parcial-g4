{
 "cells": [
  {
   "attachments": {},
   "cell_type": "markdown",
   "metadata": {},
   "source": [
    "## Support Vector Machine vs. Voted Perceptron"
   ]
  },
  {
   "attachments": {},
   "cell_type": "markdown",
   "metadata": {},
   "source": [
    "### Kernel gaussiano RBF"
   ]
  },
  {
   "cell_type": "code",
   "execution_count": 1,
   "metadata": {
    "vscode": {
     "languageId": "r"
    }
   },
   "outputs": [],
   "source": [
    "# Función para calcular el kernel gaussiano\n",
    "kernel_gaussiano <- function(x, y, sigma) {\n",
    "  return(exp(-sum((x - y)^2) / (2 * sigma^2)))\n",
    "}"
   ]
  },
  {
   "attachments": {},
   "cell_type": "markdown",
   "metadata": {},
   "source": [
    "### Entrenamiento Voted Perceptron"
   ]
  },
  {
   "cell_type": "code",
   "execution_count": 2,
   "metadata": {
    "vscode": {
     "languageId": "r"
    }
   },
   "outputs": [],
   "source": [
    "# Función para entrenar el Voted Perceptron\n",
    "voted_perceptron_entrenamiento <- function(datos_entrenamiento, etiquetas_entrenamiento, sigma, n_iteraciones) {\n",
    "  n_ejemplos <- nrow(datos_entrenamiento)\n",
    "  n_caracteristicas <- ncol(datos_entrenamiento)\n",
    "  \n",
    "  # Inicializar los pesos y votos\n",
    "  W <- matrix(0, nrow = n_caracteristicas, ncol = n_iteraciones)\n",
    "  C <- matrix(0, nrow = n_iteraciones, ncol = n_ejemplos)\n",
    "  b <- 0\n",
    "  \n",
    "  for (iteracion in 1:n_iteraciones) {\n",
    "    for (i in 1:n_ejemplos) {\n",
    "      x <- datos_entrenamiento[i, ]\n",
    "      y <- etiquetas_entrenamiento[i]\n",
    "      \n",
    "      # Calcular la predicción\n",
    "      suma <- 0\n",
    "      for (j in 1:n_ejemplos) {\n",
    "        suma <- suma + C[iteracion, j] * kernel_gaussiano(datos_entrenamiento[j, ], x, sigma)\n",
    "      }\n",
    "      y_pred <- sign(suma + b)\n",
    "      \n",
    "      if (!is.na(y_pred) && !is.na(y) && y_pred * y <= 0) {\n",
    "        # Actualizar los pesos y votos\n",
    "        W[, iteracion] <- W[, iteracion] + y * x\n",
    "        C[1, iteracion] <- C[1, iteracion] + 1\n",
    "        b <- b + y\n",
    "      }\n",
    "    }\n",
    "  }\n",
    "  \n",
    "  # Normalizar los pesos\n",
    "  norm_factor <- sqrt(rowSums(W^2))\n",
    "  W <- t(t(W) / norm_factor)\n",
    "  \n",
    "  return(list(W = W, b = b))\n",
    "}"
   ]
  },
  {
   "attachments": {},
   "cell_type": "markdown",
   "metadata": {},
   "source": [
    "### Train Voted Perceptron"
   ]
  },
  {
   "cell_type": "code",
   "execution_count": 3,
   "metadata": {
    "vscode": {
     "languageId": "r"
    }
   },
   "outputs": [],
   "source": [
    "# Función para clasificar una muestra\n",
    "voted_perceptron_clasificar <- function(muestra, pesos, sigma) {\n",
    "  W <- pesos$W\n",
    "  b <- pesos$b\n",
    "  \n",
    "  n_caracteristicas <- length(muestra)\n",
    "  \n",
    "  suma <- 0\n",
    "  for (i in 1:n_caracteristicas) {\n",
    "    suma <- suma + W[i] * kernel_gaussiano(muestra, datos_entrenamiento[i, ], sigma)\n",
    "  }\n",
    "  \n",
    "  if (suma + b >= 0) {\n",
    "    return(1)\n",
    "  } else {\n",
    "    return(-1)\n",
    "  }\n",
    "}"
   ]
  },
  {
   "attachments": {},
   "cell_type": "markdown",
   "metadata": {},
   "source": [
    "### Accuracy"
   ]
  },
  {
   "cell_type": "code",
   "execution_count": 4,
   "metadata": {
    "vscode": {
     "languageId": "r"
    }
   },
   "outputs": [],
   "source": [
    "# Función para calcular el accuracy\n",
    "calcular_accuracy <- function(datos, etiquetas, pesos, sigma) {\n",
    "  n_ejemplos <- nrow(datos)\n",
    "  predicciones <- numeric(n_ejemplos)\n",
    "  \n",
    "  for (i in 1:n_ejemplos) {\n",
    "    muestra <- datos[i, ]\n",
    "    predicciones[i] <- voted_perceptron_clasificar(muestra, pesos, sigma)\n",
    "  }\n",
    "  \n",
    "  accuracy <- sum(predicciones == etiquetas) / n_ejemplos\n",
    "  \n",
    "  return(accuracy)\n",
    "}"
   ]
  },
  {
   "attachments": {},
   "cell_type": "markdown",
   "metadata": {},
   "source": [
    "## Datos de prueba"
   ]
  },
  {
   "cell_type": "code",
   "execution_count": 5,
   "metadata": {
    "vscode": {
     "languageId": "r"
    }
   },
   "outputs": [],
   "source": [
    "# Generar datos de entrenamiento\n",
    "set.seed(123)  # Establecer semilla para reproducibilidad\n",
    "n <- 1000  # Número de ejemplos\n",
    "m <- 10  # Número de características\n",
    "\n",
    "datos_entrenamiento <- matrix(runif(n * m), ncol = m)\n",
    "etiquetas_entrenamiento <- 2 * as.integer(runif(n) > 0.5) - 1"
   ]
  },
  {
   "cell_type": "code",
   "execution_count": 6,
   "metadata": {
    "vscode": {
     "languageId": "r"
    }
   },
   "outputs": [
    {
     "data": {
      "image/png": "[encoded data removed]",
      "text/plain": [
       "plot without title"
      ]
     },
     "metadata": {
      "image/png": {
       "height": 420,
       "width": 420
      }
     },
     "output_type": "display_data"
    }
   ],
   "source": [
    "# PCA\n",
    "pca <- prcomp(datos_entrenamiento, scale. = TRUE, center = TRUE, retx = TRUE)\n",
    "\n",
    "reduced_data <- pca$x\n",
    "\n",
    "# Scatter plot\n",
    "plot(reduced_data, col = ifelse(etiquetas_entrenamiento == 1, \"darkblue\", \"darkred\"), pch = 16)"
   ]
  },
  {
   "attachments": {},
   "cell_type": "markdown",
   "metadata": {},
   "source": [
    "## Voted Perceptron Kernelizado"
   ]
  },
  {
   "cell_type": "code",
   "execution_count": 7,
   "metadata": {
    "vscode": {
     "languageId": "r"
    }
   },
   "outputs": [
    {
     "name": "stdout",
     "output_type": "stream",
     "text": [
      "[1] \"Accuracy en datos de entrenamiento: 0.504\"\n"
     ]
    }
   ],
   "source": [
    "# Parámetros del kernel gaussiano\n",
    "sigma <- 1\n",
    "\n",
    "# Entrenar el Voted Perceptron\n",
    "n_iteraciones <- 50\n",
    "pesos <- voted_perceptron_entrenamiento(datos_entrenamiento, etiquetas_entrenamiento, sigma, n_iteraciones)\n",
    "\n",
    "# Calcular predicciones para los datos de entrenamiento del Voted Perceptron\n",
    "predicciones_voted_perceptron <- sapply(1:nrow(datos_entrenamiento), function(i) voted_perceptron_clasificar(datos_entrenamiento[i,], pesos, sigma))"
   ]
  },
  {
   "attachments": {},
   "cell_type": "markdown",
   "metadata": {},
   "source": [
    "## Support Vector Machine"
   ]
  },
  {
   "cell_type": "code",
   "execution_count": 9,
   "metadata": {
    "vscode": {
     "languageId": "r"
    }
   },
   "outputs": [],
   "source": [
    "library(e1071)\n",
    "\n",
    "etiquetas_entrenamiento <- as.factor(etiquetas_entrenamiento)\n",
    "\n",
    "# Entrenar SVM no lineal con kernel gaussiano\n",
    "svm_model <- svm(factor(etiquetas_entrenamiento) ~ ., data = datos_entrenamiento, kernel = \"radial\", cost = 5, gamma = 0.5, scale = FALSE)\n",
    "\n",
    "# Calcular predicciones para los datos de entrenamiento\n",
    "predicciones_svm <- predict(svm_model, datos_entrenamiento)"
   ]
  },
  {
   "attachments": {},
   "cell_type": "markdown",
   "metadata": {},
   "source": [
    "## Accuracy"
   ]
  },
  {
   "cell_type": "code",
   "execution_count": 10,
   "metadata": {
    "vscode": {
     "languageId": "r"
    }
   },
   "outputs": [
    {
     "name": "stdout",
     "output_type": "stream",
     "text": [
      "[1] \"Accuracy SVM: 0.152\"\n",
      "[1] \"Accuracy Voted Perceptron: 0.504\"\n"
     ]
    }
   ],
   "source": [
    "# Calcular accuracy para Voted Perceptron\n",
    "accuracy_voted_perceptron <- sum(predicciones_voted_perceptron == etiquetas_entrenamiento) / length(etiquetas_entrenamiento)\n",
    "\n",
    "# Calcular accuracy para SVM\n",
    "accuracy_svm <- sum(as.integer(predicciones_svm) == etiquetas_entrenamiento) / length(etiquetas_entrenamiento)\n",
    "\n",
    "# Resultados\n",
    "print(paste(\"Accuracy SVM:\", accuracy_svm))\n",
    "print(paste(\"Accuracy Voted Perceptron:\", accuracy_voted_perceptron))"
   ]
  },
  {
   "attachments": {},
   "cell_type": "markdown",
   "metadata": {},
   "source": [
    "## ROC/AUC"
   ]
  },
  {
   "cell_type": "code",
   "execution_count": 11,
   "metadata": {
    "vscode": {
     "languageId": "r"
    }
   },
   "outputs": [
    {
     "name": "stderr",
     "output_type": "stream",
     "text": [
      "Type 'citation(\"pROC\")' for a citation.\n",
      "\n",
      "\n",
      "Attaching package: 'pROC'\n",
      "\n",
      "\n",
      "The following objects are masked from 'package:stats':\n",
      "\n",
      "    cov, smooth, var\n",
      "\n",
      "\n",
      "Setting levels: control = 1, case = 2\n",
      "\n",
      "Setting direction: controls < cases\n",
      "\n"
     ]
    },
    {
     "name": "stdout",
     "output_type": "stream",
     "text": [
      "[1] \"Área bajo la curva (AUC): 0.687051971326165\"\n"
     ]
    },
    {
     "name": "stderr",
     "output_type": "stream",
     "text": [
      "Setting levels: control = 1, case = 2\n",
      "\n",
      "Setting direction: controls < cases\n",
      "\n"
     ]
    },
    {
     "data": {
      "image/png": "[encoded data removed]",
      "text/plain": [
       "Plot with title \"Curva ROC\""
      ]
     },
     "metadata": {
      "image/png": {
       "height": 420,
       "width": 420
      }
     },
     "output_type": "display_data"
    },
    {
     "name": "stdout",
     "output_type": "stream",
     "text": [
      "[1] \"Área bajo la curva (AUC): 0.5\"\n"
     ]
    },
    {
     "data": {
      "image/png": "[encoded data removed]",
      "text/plain": [
       "Plot with title \"Curva ROC\""
      ]
     },
     "metadata": {
      "image/png": {
       "height": 420,
       "width": 420
      }
     },
     "output_type": "display_data"
    }
   ],
   "source": [
    "library(pROC)\n",
    "\n",
    "# Crear una función para generar la curva ROC\n",
    "generar_curva_ROC <- function(predicciones, etiquetas) {\n",
    "  predicciones_numericas <- as.numeric(predicciones)\n",
    "  etiquetas_numericas <- as.numeric(etiquetas)\n",
    "  curva_roc <- roc(etiquetas_numericas, predicciones_numericas)\n",
    "  plot(curva_roc, \n",
    "    print.auc = TRUE, \n",
    "    auc.polygon = TRUE, \n",
    "    grid = TRUE, \n",
    "    legacy.axes = TRUE,\n",
    "    main = \"Curva ROC\", \n",
    "    xlab = \"Tasa de Falsos Positivos\", \n",
    "    ylab = \"Tasa de Verdaderos Positivos\"\n",
    "  )\n",
    "  auc <- auc(curva_roc)\n",
    "  print(paste(\"Área bajo la curva (AUC):\", auc))\n",
    "}\n",
    "\n",
    "# Generar curva ROC para SVM\n",
    "generar_curva_ROC(predicciones_svm, etiquetas_entrenamiento)\n",
    "\n",
    "# Generar curva ROC para Voted Perceptron\n",
    "generar_curva_ROC(predicciones_voted_perceptron, etiquetas_entrenamiento)\n"
   ]
  }
 ],
 "metadata": {
  "kernelspec": {
   "display_name": "R",
   "language": "R",
   "name": "ir"
  },
  "language_info": {
   "codemirror_mode": "r",
   "file_extension": ".r",
   "mimetype": "text/x-r-source",
   "name": "R",
   "pygments_lexer": "r",
   "version": "4.2.3"
  },
  "orig_nbformat": 4
 },
 "nbformat": 4,
 "nbformat_minor": 2
}
